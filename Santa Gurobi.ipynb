{
 "cells": [
  {
   "cell_type": "code",
   "execution_count": 1,
   "metadata": {},
   "outputs": [],
   "source": [
    "import gurobipy as gp\n",
    "from gurobipy import GRB\n",
    "import pandas as pd\n",
    "import numpy as np\n",
    "import pickle"
   ]
  },
  {
   "cell_type": "code",
   "execution_count": 2,
   "metadata": {},
   "outputs": [],
   "source": [
    "N_DAYS = 100\n",
    "N_FAMILIES = 5000\n",
    "MAX_OCCUPANCY = 300\n",
    "MIN_OCCUPANCY = 125\n",
    "N_OCCUPANCY = 176\n",
    "\n",
    "data = pd.read_csv('santa-workshop-tour-2019/family_data.csv', index_col='family_id')\n",
    "\n",
    "FAMILY_SIZE = data.n_people.values"
   ]
  },
  {
   "cell_type": "code",
   "execution_count": 3,
   "metadata": {},
   "outputs": [],
   "source": [
    "CHOICES = data.drop('n_people', axis=1).values -1\n",
    "# with open ('santa-workshop-tour-2019/Choice_Table.pkl', 'rb') as fp: CHOICES = pickle.load(fp)"
   ]
  },
  {
   "cell_type": "code",
   "execution_count": 4,
   "metadata": {},
   "outputs": [],
   "source": [
    "def get_penalty(n, choice):\n",
    "    penalty = None\n",
    "    if choice == 0:\n",
    "        penalty = 0\n",
    "    elif choice == 1:\n",
    "        penalty = 50\n",
    "    elif choice == 2:\n",
    "        penalty = 50 + 9 * n\n",
    "    elif choice == 3:\n",
    "        penalty = 100 + 9 * n\n",
    "    elif choice == 4:\n",
    "        penalty = 200 + 9 * n\n",
    "    elif choice == 5:\n",
    "        penalty = 200 + 18 * n\n",
    "    elif choice == 6:\n",
    "        penalty = 300 + 18 * n\n",
    "    elif choice == 7:\n",
    "        penalty = 300 + 36 * n\n",
    "    elif choice == 8:\n",
    "        penalty = 400 + 36 * n\n",
    "    elif choice == 9:\n",
    "        penalty = 500 + 36 * n + 199 * n\n",
    "    else:\n",
    "        penalty = 500 + 36 * n + 398 * n\n",
    "    return penalty\n",
    "\n",
    "\n",
    "def GetPreferenceCostMatrix(data):\n",
    "    cost_matrix = np.zeros((N_FAMILIES, N_DAYS), dtype=np.float32)\n",
    "    for i in range(N_FAMILIES):\n",
    "        desired = data.values[i, :-1]\n",
    "        cost_matrix[i, :] = get_penalty(FAMILY_SIZE[i], 10)\n",
    "        for j, day in enumerate(desired):\n",
    "            cost_matrix[i, day-1] = get_penalty(FAMILY_SIZE[i], j)\n",
    "    return cost_matrix\n",
    "\n",
    "\n",
    "def GetAccountingCostMatrix():\n",
    "    ac = np.zeros((N_OCCUPANCY, N_OCCUPANCY), dtype=np.float32)\n",
    "    for i,n in enumerate(range(125,301)):\n",
    "        for j,n_p1 in enumerate(range(125,301)):\n",
    "            diff = abs(n - n_p1)\n",
    "            ac[i, j] = max(0, (n - 125) / 400 * n**(0.5 + diff / 50.0))\n",
    "    return ac"
   ]
  },
  {
   "cell_type": "code",
   "execution_count": 5,
   "metadata": {},
   "outputs": [],
   "source": [
    "PREFCOST = GetPreferenceCostMatrix(data)\n",
    "ACCOST = GetAccountingCostMatrix()"
   ]
  },
  {
   "cell_type": "code",
   "execution_count": 6,
   "metadata": {},
   "outputs": [],
   "source": [
    "PREFCOST = PREFCOST.tolist()\n",
    "ACCOST = ACCOST.tolist()"
   ]
  },
  {
   "cell_type": "code",
   "execution_count": 7,
   "metadata": {},
   "outputs": [
    {
     "name": "stdout",
     "output_type": "stream",
     "text": [
      "Using license file /home/igor/gurobi.lic\n",
      "Academic license - for non-commercial use only\n"
     ]
    }
   ],
   "source": [
    "# Create a new model\n",
    "model = gp.Model(\"santa\")"
   ]
  },
  {
   "cell_type": "code",
   "execution_count": 8,
   "metadata": {},
   "outputs": [],
   "source": [
    "disabled_bad_choice = [[1 if d in row[:5] else 0 for d in range(100) ] for r, row in enumerate(CHOICES)]\n",
    "x_lb  = [[0 for d in range(100) ] for r, row in enumerate(CHOICES)]"
   ]
  },
  {
   "cell_type": "code",
   "execution_count": 8,
   "metadata": {},
   "outputs": [
    {
     "name": "stdout",
     "output_type": "stream",
     "text": [
      "CPU times: user 16.1 s, sys: 613 ms, total: 16.7 s\n",
      "Wall time: 16.6 s\n"
     ]
    }
   ],
   "source": [
    "%%time\n",
    "#Preference Cost VARS\n",
    "x = model.addVars(N_FAMILIES, N_DAYS, ub=1.0, lb=0.0, vtype=GRB.BINARY, name='x')\n",
    "# Accounting Cost VARS\n",
    "y = model.addVars(N_DAYS,N_OCCUPANCY,N_OCCUPANCY, ub=1.0, vtype=GRB.BINARY, name='y')"
   ]
  },
  {
   "cell_type": "code",
   "execution_count": 9,
   "metadata": {},
   "outputs": [
    {
     "name": "stdout",
     "output_type": "stream",
     "text": [
      "1.0\n"
     ]
    }
   ],
   "source": [
    "### Init Solution ###\n",
    "\n",
    "init = pd.read_csv('solution_68927.csv')\n",
    "init_day = init[['family_id', 'assigned_day']].values\n",
    "\n",
    "for f in range(N_FAMILIES):\n",
    "    for d in range(N_DAYS):\n",
    "        x[f, d].start =  False\n",
    "    day = init_day[f, 1]\n",
    "    x[f, day-1].start = True\n",
    "model.update()\n",
    "print(x[0,51].start)   "
   ]
  },
  {
   "cell_type": "code",
   "execution_count": 10,
   "metadata": {},
   "outputs": [
    {
     "name": "stdout",
     "output_type": "stream",
     "text": [
      "CPU times: user 2.33 s, sys: 43.8 ms, total: 2.37 s\n",
      "Wall time: 2.37 s\n"
     ]
    }
   ],
   "source": [
    "%%time\n",
    "#Preference cost\n",
    "preference_cost = [PREFCOST[f][d]*x[f,d] for f in range(N_FAMILIES) for d in range(N_DAYS)]\n",
    "preference_cost = sum(preference_cost)"
   ]
  },
  {
   "cell_type": "code",
   "execution_count": 11,
   "metadata": {},
   "outputs": [
    {
     "name": "stdout",
     "output_type": "stream",
     "text": [
      "CPU times: user 12.6 s, sys: 176 ms, total: 12.7 s\n",
      "Wall time: 12.7 s\n"
     ]
    }
   ],
   "source": [
    "%%time\n",
    "#Accounting Cost\n",
    "acc_cost = [ACCOST[u][v]*y[d,u,v] for u in range(N_OCCUPANCY) for v in range(N_OCCUPANCY) for d in range(N_DAYS)]\n",
    "acc_cost = sum(acc_cost)"
   ]
  },
  {
   "cell_type": "code",
   "execution_count": 12,
   "metadata": {},
   "outputs": [
    {
     "name": "stdout",
     "output_type": "stream",
     "text": [
      "CPU times: user 10min 46s, sys: 3.19 s, total: 10min 49s\n",
      "Wall time: 10min 45s\n"
     ]
    }
   ],
   "source": [
    "%%time\n",
    "model.setObjective(preference_cost + acc_cost, GRB.MINIMIZE)"
   ]
  },
  {
   "cell_type": "code",
   "execution_count": 14,
   "metadata": {},
   "outputs": [],
   "source": [
    "# _arr = []\n",
    "# with open('Santa_Workshop_Tour_2019/occ_constr_2.txt') as stream:\n",
    "#     for i, line in enumerate(stream.readlines()):\n",
    "#         if ',' not in line: continue\n",
    "#         values = int(line.split(',')[0])\n",
    "#         _arr.append(values)\n",
    "# min_arr = _arr[::2]\n",
    "# max_arr = _arr[1::2]"
   ]
  },
  {
   "cell_type": "code",
   "execution_count": 13,
   "metadata": {},
   "outputs": [],
   "source": [
    "occupancy={}\n",
    "for d in range(N_DAYS):\n",
    "    occupancy[d] = sum([x[f,d]*FAMILY_SIZE[f] for f in range(N_FAMILIES)])\n",
    "occupancy[d+1] = occupancy[d]"
   ]
  },
  {
   "cell_type": "code",
   "execution_count": 14,
   "metadata": {},
   "outputs": [
    {
     "name": "stdout",
     "output_type": "stream",
     "text": [
      "CPU times: user 1.79 s, sys: 0 ns, total: 1.79 s\n",
      "Wall time: 1.79 s\n"
     ]
    }
   ],
   "source": [
    "%%time\n",
    "for f in range(N_FAMILIES):\n",
    "    model.addConstr(sum([x[f,d] for d in range(N_DAYS)]) == 1)"
   ]
  },
  {
   "cell_type": "code",
   "execution_count": 15,
   "metadata": {},
   "outputs": [
    {
     "name": "stdout",
     "output_type": "stream",
     "text": [
      "CPU times: user 972 ms, sys: 0 ns, total: 972 ms\n",
      "Wall time: 971 ms\n"
     ]
    }
   ],
   "source": [
    "%%time\n",
    "for d in range(N_DAYS):\n",
    "    model.addConstr(occupancy[d] >= 125)\n",
    "    model.addConstr(occupancy[d] <= 300)"
   ]
  },
  {
   "cell_type": "code",
   "execution_count": 16,
   "metadata": {},
   "outputs": [],
   "source": [
    "count= list(range(125,301))"
   ]
  },
  {
   "cell_type": "code",
   "execution_count": 17,
   "metadata": {},
   "outputs": [
    {
     "name": "stdout",
     "output_type": "stream",
     "text": [
      "CPU times: user 49.1 s, sys: 27.9 ms, total: 49.1 s\n",
      "Wall time: 49.1 s\n"
     ]
    }
   ],
   "source": [
    "%%time\n",
    "for d in range(N_DAYS):\n",
    "    y_sum_u = sum( y[d,u,v]*count[u] for u in range(N_OCCUPANCY) for v in range(N_OCCUPANCY) )\n",
    "    y_sum_v = sum( y[d,u,v]*count[v] for u in range(N_OCCUPANCY) for v in range(N_OCCUPANCY) )\n",
    "    model.addConstr(y_sum_u == occupancy[d])\n",
    "    model.addConstr(y_sum_v == occupancy[d+1])\n",
    "    \n",
    "    y_sum = sum( y[d,u,v] for v in range(N_OCCUPANCY) for u in range(N_OCCUPANCY) )\n",
    "    model.addConstr(y_sum == 1)"
   ]
  },
  {
   "cell_type": "code",
   "execution_count": 18,
   "metadata": {},
   "outputs": [
    {
     "name": "stdout",
     "output_type": "stream",
     "text": [
      "CPU times: user 28.6 s, sys: 116 ms, total: 28.7 s\n",
      "Wall time: 28.8 s\n"
     ]
    }
   ],
   "source": [
    "%%time\n",
    "for d in range(N_DAYS -1):\n",
    "    for t in range(N_OCCUPANCY):\n",
    "        y_sum_u = sum( y[d,u,t] for u in range(N_OCCUPANCY) )\n",
    "        y_sum_v = sum( y[d+1,t,v] for v in range(N_OCCUPANCY) )\n",
    "        model.addConstr(y_sum_u == y_sum_v)\n",
    "        "
   ]
  },
  {
   "cell_type": "code",
   "execution_count": 19,
   "metadata": {},
   "outputs": [],
   "source": [
    "## Callbacks ##\n",
    "def simple_mst_writer(model, mstfilename, nodecnt, obj):\n",
    "    mstfile = open(mstfilename, 'w')\n",
    "    varlist = model.getVars()\n",
    "    soln = model.cbGetSolution(varlist) #  cbGetSolution\n",
    "    mstfile.write('# MIP start from soln at node %d obj %e\\n' % (nodecnt, obj))\n",
    "    for var, soln in zip(varlist, soln):\n",
    "        mstfile.write('%s %.3e\\n' % (var.VarName, soln))\n",
    "    mstfile.close()\n",
    "\n",
    "\n",
    "def mycallback(model, where):\n",
    "    if where == GRB.callback.MIPSOL: # MIPSOL\n",
    "        obj = model.cbGet(GRB.callback.MIPSOL_OBJ)\n",
    "        nodecnt = int(model.cbGet(GRB.callback.MIPSOL_NODCNT))\n",
    "        print('Found solution at node', nodecnt, 'obj', obj)\n",
    "        simple_mst_writer(model, 'sol.mst', nodecnt, obj)"
   ]
  },
  {
   "cell_type": "code",
   "execution_count": 20,
   "metadata": {},
   "outputs": [
    {
     "name": "stdout",
     "output_type": "stream",
     "text": [
      "Changed value of parameter MIPGap to 0.0\n",
      "   Prev: 0.0001  Min: 0.0  Max: inf  Default: 0.0001\n",
      "Changed value of parameter Seed to 133\n",
      "   Prev: 0  Min: 0  Max: 2000000000  Default: 0\n"
     ]
    }
   ],
   "source": [
    "## Model Param\n",
    "model.setParam('MIPGap', 0) \n",
    "model.setParam('Seed', 133) "
   ]
  },
  {
   "cell_type": "code",
   "execution_count": 21,
   "metadata": {},
   "outputs": [
    {
     "name": "stdout",
     "output_type": "stream",
     "text": [
      "Gurobi Optimizer version 9.0.0 build v9.0.0rc2 (linux64)\n",
      "Optimize a model with 22924 rows, 3597600 columns and 17926048 nonzeros\n",
      "Model fingerprint: 0x868b1126\n",
      "Variable types: 0 continuous, 3597600 integer (3597600 binary)\n",
      "Coefficient statistics:\n",
      "  Matrix range     [1e+00, 3e+02]\n",
      "  Objective range  [3e-02, 4e+09]\n",
      "  Bounds range     [1e+00, 1e+00]\n",
      "  RHS range        [1e+00, 3e+02]\n",
      "Warning: Model contains large objective coefficients\n",
      "         Consider reformulating model or setting NumericFocus parameter\n",
      "         to avoid numerical issues.\n",
      "\n",
      "Found solution at node 0 obj 68927.3555410821\n",
      "User MIP start produced solution with objective 68927.4 (20.66s)\n",
      "Found solution at node 0 obj 68927.3555410821\n",
      "Loaded user MIP start with objective 68927.4\n",
      "Processed MIP start in 35.02 seconds\n",
      "\n",
      "Presolve removed 0 rows and 0 columns (presolve time = 5s) ...\n",
      "Presolve removed 0 rows and 0 columns (presolve time = 10s) ...\n",
      "Presolve removed 0 rows and 0 columns (presolve time = 15s) ...\n",
      "Presolve removed 100 rows and 0 columns (presolve time = 20s) ...\n",
      "Presolve removed 100 rows and 0 columns (presolve time = 25s) ...\n",
      "Presolve removed 100 rows and 6497 columns (presolve time = 30s) ...\n",
      "Presolve removed 100 rows and 6497 columns (presolve time = 35s) ...\n",
      "Presolve removed 200 rows and 6497 columns (presolve time = 46s) ...\n",
      "Presolve removed 200 rows and 31485 columns (presolve time = 220s) ...\n",
      "Presolve removed 200 rows and 31485 columns (presolve time = 220s) ...\n",
      "Presolve removed 201 rows and 31486 columns (presolve time = 225s) ...\n",
      "Presolve removed 101 rows and 31386 columns\n",
      "Presolve time: 228.26s\n",
      "Presolved: 22823 rows, 3566214 columns, 16203297 nonzeros\n",
      "Variable types: 0 continuous, 3566214 integer (3566114 binary)\n",
      "\n",
      "Deterministic concurrent LP optimizer: dual simplex and barrier\n",
      "Showing barrier log only...\n",
      "\n",
      "Root barrier log...\n",
      "\n",
      "Ordering time: 0.91s\n",
      "\n",
      "Barrier statistics:\n",
      " AA' NZ     : 3.025e+06\n",
      " Factor NZ  : 7.161e+06 (roughly 1.3 GBytes of memory)\n",
      " Factor Ops : 2.666e+09 (less than 1 second per iteration)\n",
      " Threads    : 1\n",
      "\n",
      "                  Objective                Residual\n",
      "Iter       Primal          Dual         Primal    Dual     Compl     Time\n",
      "   0   4.72531803e+10 -3.49543106e+10  2.75e+05 3.90e+03  3.78e+05   285s\n",
      "   1   1.84199255e+10 -1.52533526e+10  1.07e+05 5.40e-09  1.47e+05   287s\n",
      "   2   2.84187584e+09 -2.48530331e+09  1.64e+04 4.51e-09  2.25e+04   289s\n",
      "   3   7.46855276e+07 -2.57605562e+08  3.69e+02 5.36e-09  5.44e+02   291s\n",
      "   4   2.01945920e+07 -1.58656762e+08  5.35e+01 5.34e-09  9.69e+01   293s\n",
      "   5   1.49597456e+07 -8.01568879e+07  2.36e+01 9.42e-09  4.11e+01   294s\n",
      "   6   1.27220984e+07 -7.24011499e+07  1.21e+01 1.06e-08  2.68e+01   296s\n",
      "   7   1.06688265e+07 -5.11910807e+07  2.94e+00 8.69e-09  1.30e+01   298s\n",
      "   8   8.75655080e+06 -2.65484875e+07  6.36e-01 5.02e-09  6.30e+00   300s\n",
      "   9   4.53648399e+06 -9.39209643e+06  1.62e-02 6.50e-09  2.35e+00   302s\n",
      "  10   1.68511241e+06 -3.80008274e+06  5.12e-04 7.75e-09  9.25e-01   304s\n",
      "  11   9.40135592e+05 -1.75084395e+06  1.59e-04 6.49e-09  4.54e-01   305s\n",
      "  12   4.21980404e+05 -5.54917563e+05  3.44e-05 6.92e-09  1.65e-01   307s\n",
      "  13   2.30849544e+05 -2.26169479e+05  6.71e-06 5.66e-09  7.71e-02   309s\n",
      "  14   1.89114838e+05 -1.64949380e+05  3.66e-06 5.86e-09  5.97e-02   310s\n",
      "  15   1.77041943e+05 -1.01080654e+05  2.95e-06 6.99e-09  4.69e-02   312s\n",
      "  16   1.64266623e+05 -7.24087847e+04  2.31e-06 6.93e-09  3.99e-02   313s\n",
      "  17   1.54840327e+05 -5.01149051e+04  1.89e-06 8.60e-09  3.46e-02   315s\n",
      "  18   1.42018195e+05 -3.15555183e+04  1.45e-06 8.26e-09  2.93e-02   316s\n",
      "  19   1.27849692e+05 -2.54937233e+03  9.97e-07 7.13e-09  2.20e-02   319s\n",
      "  20   1.16358413e+05  1.51305767e+04  6.92e-07 1.06e-08  1.71e-02   321s\n",
      "  21   1.09057946e+05  2.92599457e+04  5.37e-07 6.59e-09  1.35e-02   324s\n",
      "  22   1.02334962e+05  3.99118503e+04  4.11e-07 6.54e-09  1.05e-02   327s\n",
      "  23   9.70520457e+04  4.72192672e+04  3.29e-07 5.98e-09  8.41e-03   329s\n",
      "  24   9.08690622e+04  5.18368355e+04  2.39e-07 6.85e-09  6.58e-03   332s\n",
      "  25   8.68758769e+04  5.52218620e+04  1.92e-07 7.69e-09  5.34e-03   334s\n",
      "  26   8.32670352e+04  5.83075186e+04  1.53e-07 5.64e-09  4.21e-03   337s\n",
      "  27   7.97945125e+04  5.97116486e+04  1.16e-07 9.06e-09  3.39e-03   340s\n",
      "  28   7.75358852e+04  6.11691454e+04  9.02e-08 7.19e-09  2.76e-03   343s\n",
      "  29   7.66716478e+04  6.18416780e+04  8.15e-08 7.07e-09  2.50e-03   346s\n",
      "  30   7.43177046e+04  6.32518691e+04  5.85e-08 8.51e-09  1.87e-03   349s\n",
      "  31   7.38278981e+04  6.39340188e+04  5.39e-08 1.05e-08  1.67e-03   351s\n",
      "  32   7.28565370e+04  6.44345934e+04  4.58e-08 7.06e-09  1.42e-03   354s\n",
      "  33   7.13108371e+04  6.51379491e+04  3.23e-08 9.45e-09  1.04e-03   357s\n",
      "  34   7.05127385e+04  6.55017376e+04  2.54e-08 8.98e-09  8.45e-04   360s\n",
      "  35   6.95304291e+04  6.60301048e+04  1.71e-08 9.29e-09  5.91e-04   362s\n",
      "  36   6.87702827e+04  6.63304422e+04  1.09e-08 8.50e-09  4.12e-04   364s\n",
      "  37   6.81968712e+04  6.65932292e+04  6.41e-09 1.04e-08  2.71e-04   367s\n",
      "  38   6.78465808e+04  6.68570567e+04  3.73e-09 8.67e-09  1.67e-04   369s\n",
      "  39   6.75608638e+04  6.69860470e+04  1.70e-09 9.88e-09  9.70e-05   372s\n",
      "  40   6.74518071e+04  6.71696556e+04  1.47e-09 7.49e-09  4.76e-05   374s\n",
      "  41   6.73975724e+04  6.72372240e+04  8.78e-10 8.47e-09  2.71e-05   376s\n",
      "  42   6.73742504e+04  6.72671577e+04  6.44e-10 8.55e-09  1.81e-05   377s\n",
      "  43   6.73430389e+04  6.72765787e+04  7.56e-10 8.89e-09  1.12e-05   379s\n",
      "  44   6.73414001e+04  6.72976463e+04  7.13e-10 8.86e-09  7.38e-06   380s\n",
      "  45   6.73225238e+04  6.73050940e+04  5.05e-10 7.62e-09  2.94e-06   382s\n",
      "  46   6.73118784e+04  6.73081987e+04  2.13e-09 6.25e-09  6.21e-07   383s\n",
      "  47   6.73112298e+04  6.73084365e+04  1.61e-06 7.52e-09  4.71e-07   385s\n",
      "  48   6.73093554e+04  6.73089618e+04  2.09e-07 5.78e-09  6.64e-08   387s\n",
      "  49   6.73092238e+04  6.73090851e+04  8.41e-08 6.20e-09  2.34e-08   388s\n",
      "  50   6.73091168e+04  6.73091139e+04  2.48e-09 6.26e-09  4.99e-10   390s\n",
      "  51   6.73091139e+04  6.73091139e+04  3.38e-10 8.40e-09  7.83e-15   391s\n",
      "\n",
      "Barrier solved model in 51 iterations and 391.36 seconds\n",
      "Optimal objective 6.73091139e+04\n",
      "\n",
      "\n",
      "Root crossover log...\n",
      "\n",
      "   22228 DPushes remaining with DInf 3.3490288e-01               392s\n",
      "       0 DPushes remaining with DInf 4.4977777e+08               394s\n",
      "\n",
      "      16 PPushes remaining with PInf 0.0000000e+00               395s\n",
      "       0 PPushes remaining with PInf 0.0000000e+00               395s\n",
      "\n",
      "  Push phase complete: Pinf 0.0000000e+00, Dinf 4.2467391e-11    395s\n",
      "\n",
      "\n",
      "Root simplex log...\n",
      "\n",
      "Iteration    Objective       Primal Inf.    Dual Inf.      Time\n",
      "   22147    6.7309114e+04   0.000000e+00   0.000000e+00    395s\n",
      "   22147    6.7309114e+04   0.000000e+00   0.000000e+00    397s\n",
      "Concurrent spin time: 0.01s\n",
      "\n",
      "Solved with barrier\n",
      "\n",
      "Root relaxation: objective 6.730911e+04, 22147 iterations, 127.10 seconds\n",
      "\n",
      "    Nodes    |    Current Node    |     Objective Bounds      |     Work\n",
      " Expl Unexpl |  Obj  Depth IntInf | Incumbent    BestBd   Gap | It/Node Time\n",
      "\n",
      "     0     0 67309.1139    0  443 68927.3555 67309.1139  2.35%     -  408s\n",
      "\n",
      "Explored 1 nodes (22154 simplex iterations) in 735.02 seconds\n",
      "Thread count was 4 (of 4 available processors)\n",
      "\n",
      "Solution count 1: 68927.4 \n",
      "\n",
      "Solve interrupted\n",
      "Best objective 6.892735554108e+04, best bound 6.730911391836e+04, gap 2.3477%\n",
      "\n",
      "User-callback calls 207463, time in user-callback 30.39 sec\n",
      "Obj: 68927.4\n"
     ]
    }
   ],
   "source": [
    "try:\n",
    "    model.optimize(mycallback)\n",
    "\n",
    "    print('Obj: %g' % model.objVal)\n",
    "\n",
    "except gp.GurobiError as e:\n",
    "    print('Error code ' + str(e.errno) + ': ' + str(e))\n",
    "\n",
    "except AttributeError:\n",
    "    print('Encountered an attribute error')"
   ]
  },
  {
   "cell_type": "code",
   "execution_count": 23,
   "metadata": {},
   "outputs": [
    {
     "ename": "AttributeError",
     "evalue": "Unable to retrieve attribute 'objVal'",
     "output_type": "error",
     "traceback": [
      "\u001b[0;31m---------------------------------------------------------------------------\u001b[0m",
      "\u001b[0;31mAttributeError\u001b[0m                            Traceback (most recent call last)",
      "\u001b[0;32m<ipython-input-23-4f1738c6184b>\u001b[0m in \u001b[0;36m<module>\u001b[0;34m()\u001b[0m\n\u001b[0;32m----> 1\u001b[0;31m \u001b[0mprint\u001b[0m\u001b[0;34m(\u001b[0m\u001b[0;34m'Obj: %g'\u001b[0m \u001b[0;34m%\u001b[0m \u001b[0mmodel\u001b[0m\u001b[0;34m.\u001b[0m\u001b[0mobjVal\u001b[0m\u001b[0;34m)\u001b[0m\u001b[0;34m\u001b[0m\u001b[0m\n\u001b[0m",
      "\u001b[0;32mmodel.pxi\u001b[0m in \u001b[0;36mgurobipy.Model.__getattr__\u001b[0;34m()\u001b[0m\n",
      "\u001b[0;32mmodel.pxi\u001b[0m in \u001b[0;36mgurobipy.Model.getAttr\u001b[0;34m()\u001b[0m\n",
      "\u001b[0;32mattrutil.pxi\u001b[0m in \u001b[0;36mgurobipy.__getattr\u001b[0;34m()\u001b[0m\n",
      "\u001b[0;31mAttributeError\u001b[0m: Unable to retrieve attribute 'objVal'"
     ]
    }
   ],
   "source": [
    "print('Obj: %g' % model.objVal)"
   ]
  },
  {
   "cell_type": "code",
   "execution_count": 23,
   "metadata": {},
   "outputs": [],
   "source": [
    "## Generate new submit file with best solution ##\n",
    "days = []\n",
    "f = 0\n",
    "for v in model.getVars()[:500000]:\n",
    "    f += 1\n",
    "    x = v.x\n",
    "    if int(x) == 1:\n",
    "        days.append(f)\n",
    "    if f == 100:\n",
    "        f = 0\n",
    "\n",
    "init['assigned_day'] =  days\n",
    "init.to_csv('best_solution.csv', index=False)"
   ]
  },
  {
   "cell_type": "code",
   "execution_count": 16,
   "metadata": {},
   "outputs": [],
   "source": [
    "days = []\n",
    "fa = 0\n",
    "init = pd.read_csv('santa-workshop-tour-2019/solution_68939.csv')\n",
    "with open('Santa_Workshop_Tour_2019/sol.mst') as f:\n",
    "    lines = f.readlines()[1:500001]\n",
    "    for line in lines:\n",
    "        fa += 1\n",
    "        x = line.split(' ')[1]\n",
    "        if '1.00' in x:\n",
    "            days.append(fa)\n",
    "        if fa == 100:\n",
    "            fa = 0\n",
    "            \n",
    "init['assigned_day'] =  days\n",
    "init.to_csv('solution_68888.csv', index=False)"
   ]
  },
  {
   "cell_type": "code",
   "execution_count": 15,
   "metadata": {},
   "outputs": [
    {
     "data": {
      "text/plain": [
       "0"
      ]
     },
     "execution_count": 15,
     "metadata": {},
     "output_type": "execute_result"
    }
   ],
   "source": [
    "len(days)"
   ]
  },
  {
   "cell_type": "code",
   "execution_count": 37,
   "metadata": {},
   "outputs": [],
   "source": []
  },
  {
   "cell_type": "code",
   "execution_count": 8,
   "metadata": {},
   "outputs": [],
   "source": []
  },
  {
   "cell_type": "code",
   "execution_count": null,
   "metadata": {},
   "outputs": [],
   "source": []
  },
  {
   "cell_type": "code",
   "execution_count": 9,
   "metadata": {},
   "outputs": [],
   "source": []
  },
  {
   "cell_type": "code",
   "execution_count": 10,
   "metadata": {},
   "outputs": [],
   "source": []
  },
  {
   "cell_type": "code",
   "execution_count": 11,
   "metadata": {},
   "outputs": [],
   "source": []
  },
  {
   "cell_type": "code",
   "execution_count": 12,
   "metadata": {},
   "outputs": [],
   "source": []
  },
  {
   "cell_type": "code",
   "execution_count": 35,
   "metadata": {},
   "outputs": [
    {
     "ename": "TypeError",
     "evalue": "bad operand type for abs(): 'gurobipy.LinExpr'",
     "output_type": "error",
     "traceback": [
      "\u001b[0;31m---------------------------------------------------------------------------\u001b[0m",
      "\u001b[0;31mTypeError\u001b[0m                                 Traceback (most recent call last)",
      "\u001b[0;32m<ipython-input-35-f5d735d1d20d>\u001b[0m in \u001b[0;36m<module>\u001b[0;34m()\u001b[0m\n\u001b[1;32m      1\u001b[0m accounting_penalty = sum([(lista_d[d] - 125) / 400.0 * \n\u001b[1;32m      2\u001b[0m                                 \u001b[0mpow\u001b[0m\u001b[0;34m(\u001b[0m\u001b[0mlista_d\u001b[0m\u001b[0;34m[\u001b[0m\u001b[0md\u001b[0m\u001b[0;34m]\u001b[0m\u001b[0;34m,\u001b[0m\u001b[0;36m0.5\u001b[0m \u001b[0;34m+\u001b[0m \u001b[0mabs\u001b[0m\u001b[0;34m(\u001b[0m\u001b[0mlista_d\u001b[0m\u001b[0;34m[\u001b[0m\u001b[0md\u001b[0m\u001b[0;34m]\u001b[0m \u001b[0;34m-\u001b[0m \u001b[0mlista_d\u001b[0m\u001b[0;34m[\u001b[0m\u001b[0md\u001b[0m\u001b[0;34m+\u001b[0m\u001b[0;36m1\u001b[0m\u001b[0;34m]\u001b[0m\u001b[0;34m)\u001b[0m \u001b[0;34m/\u001b[0m \u001b[0;36m50.0\u001b[0m \u001b[0;34m)\u001b[0m\u001b[0;34m\u001b[0m\u001b[0m\n\u001b[0;32m----> 3\u001b[0;31m                                 for d in range(N_DAYS)])\n\u001b[0m",
      "\u001b[0;32m<ipython-input-35-f5d735d1d20d>\u001b[0m in \u001b[0;36m<listcomp>\u001b[0;34m(.0)\u001b[0m\n\u001b[1;32m      1\u001b[0m accounting_penalty = sum([(lista_d[d] - 125) / 400.0 * \n\u001b[1;32m      2\u001b[0m                                 \u001b[0mpow\u001b[0m\u001b[0;34m(\u001b[0m\u001b[0mlista_d\u001b[0m\u001b[0;34m[\u001b[0m\u001b[0md\u001b[0m\u001b[0;34m]\u001b[0m\u001b[0;34m,\u001b[0m\u001b[0;36m0.5\u001b[0m \u001b[0;34m+\u001b[0m \u001b[0mabs\u001b[0m\u001b[0;34m(\u001b[0m\u001b[0mlista_d\u001b[0m\u001b[0;34m[\u001b[0m\u001b[0md\u001b[0m\u001b[0;34m]\u001b[0m \u001b[0;34m-\u001b[0m \u001b[0mlista_d\u001b[0m\u001b[0;34m[\u001b[0m\u001b[0md\u001b[0m\u001b[0;34m+\u001b[0m\u001b[0;36m1\u001b[0m\u001b[0;34m]\u001b[0m\u001b[0;34m)\u001b[0m \u001b[0;34m/\u001b[0m \u001b[0;36m50.0\u001b[0m \u001b[0;34m)\u001b[0m\u001b[0;34m\u001b[0m\u001b[0m\n\u001b[0;32m----> 3\u001b[0;31m                                 for d in range(N_DAYS)])\n\u001b[0m",
      "\u001b[0;31mTypeError\u001b[0m: bad operand type for abs(): 'gurobipy.LinExpr'"
     ]
    }
   ],
   "source": []
  },
  {
   "cell_type": "code",
   "execution_count": null,
   "metadata": {},
   "outputs": [],
   "source": []
  }
 ],
 "metadata": {
  "kernelspec": {
   "display_name": "Python 3",
   "language": "python",
   "name": "python3"
  },
  "language_info": {
   "codemirror_mode": {
    "name": "ipython",
    "version": 3
   },
   "file_extension": ".py",
   "mimetype": "text/x-python",
   "name": "python",
   "nbconvert_exporter": "python",
   "pygments_lexer": "ipython3",
   "version": "3.6.6"
  }
 },
 "nbformat": 4,
 "nbformat_minor": 2
}
